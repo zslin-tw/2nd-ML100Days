{
 "cells": [
  {
   "cell_type": "markdown",
   "metadata": {},
   "source": [
    "## 練習時間\n",
    "在小量的資料上，我們用眼睛就可以看得出來程式碼是否有跑出我們理想中的結果\n",
    "\n",
    "請嘗試想像一個你需要的資料結構 (裡面的值可以是隨機的)，然後用上述的方法把它變成 pandas DataFrame\n",
    "\n",
    "#### Ex: 想像一個 dataframe 有兩個欄位，一個是國家，一個是人口，求人口數最多的國家\n",
    "\n",
    "### Hints: [隨機產生數值](https://blog.csdn.net/christianashannon/article/details/78867204)"
   ]
  },
  {
   "cell_type": "code",
   "execution_count": 2,
   "metadata": {},
   "outputs": [],
   "source": [
    "import pandas as pd\n",
    "import numpy as np"
   ]
  },
  {
   "cell_type": "code",
   "execution_count": 7,
   "metadata": {},
   "outputs": [
    {
     "name": "stdout",
     "output_type": "stream",
     "text": [
      "     國家    人口\n",
      "0   國家A  7982\n",
      "1   國家B  5226\n",
      "2   國家C  6372\n",
      "3   國家D  2710\n",
      "4   國家E  4478\n",
      "5   國家F  3599\n",
      "6   國家G  6698\n",
      "7   國家H  4868\n",
      "8   國家I  5796\n",
      "9   國家J  7070\n",
      "10  國家K  1064\n",
      "11  國家L  3398\n",
      "12  國家M  1100\n",
      "13  國家N  9728\n",
      "14  國家O  8425\n",
      "15  國家P  1053\n",
      "16  國家Q  6212\n",
      "17  國家R  2554\n",
      "18  國家S  6779\n",
      "19  國家T  8248\n",
      "20  國家U  4653\n",
      "21  國家V  2129\n",
      "22  國家W  2725\n",
      "23  國家X  1601\n",
      "24  國家Y  6272\n",
      "25  國家Z  2226\n",
      "\n",
      "人口數最多的國家:國家N, 人口數:9728\n"
     ]
    }
   ],
   "source": [
    "import string as st\n",
    "\n",
    "arrCountrys=[]\n",
    "CountryCount=0\n",
    "for w in list(st.ascii_uppercase):\n",
    "    arrCountrys.append('國家'+w)  \n",
    "    CountryCount+=1\n",
    "\n",
    "data = {'國家':arrCountrys,\n",
    "        '人口':np.random.randint(10000, size=CountryCount) }\n",
    "\n",
    "populations = pd.DataFrame(data)\n",
    "print(populations)\n",
    "maxidx=populations['人口'].idxmax()\n",
    "print('\\n人口數最多的國家:%s, 人口數:%s' %(populations['國家'][maxidx],populations['人口'][maxidx]) )"
   ]
  },
  {
   "cell_type": "code",
   "execution_count": null,
   "metadata": {
    "collapsed": true
   },
   "outputs": [],
   "source": []
  }
 ],
 "metadata": {
  "kernelspec": {
   "display_name": "Python 3",
   "language": "python",
   "name": "python3"
  },
  "language_info": {
   "codemirror_mode": {
    "name": "ipython",
    "version": 3
   },
   "file_extension": ".py",
   "mimetype": "text/x-python",
   "name": "python",
   "nbconvert_exporter": "python",
   "pygments_lexer": "ipython3",
   "version": "3.7.1"
  }
 },
 "nbformat": 4,
 "nbformat_minor": 2
}
